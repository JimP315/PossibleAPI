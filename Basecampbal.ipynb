{
 "cells": [
  {
   "cell_type": "code",
   "execution_count": null,
   "id": "346272af-7c27-4b2c-bec9-5eac424327b0",
   "metadata": {},
   "outputs": [],
   "source": [
    "#Aim here is to build a dashboard of the Standard deviations, returns, and sharpe ratios of the basecamp portfolios, basically balanced, growth, etc and focus on backtesting "
   ]
  }
 ],
 "metadata": {
  "kernelspec": {
   "display_name": "Python 3 (ipykernel)",
   "language": "python",
   "name": "python3"
  },
  "language_info": {
   "codemirror_mode": {
    "name": "ipython",
    "version": 3
   },
   "file_extension": ".py",
   "mimetype": "text/x-python",
   "name": "python",
   "nbconvert_exporter": "python",
   "pygments_lexer": "ipython3",
   "version": "3.7.11"
  }
 },
 "nbformat": 4,
 "nbformat_minor": 5
}
